{
 "cells": [
  {
   "cell_type": "code",
   "execution_count": 2,
   "id": "fiscal-reform",
   "metadata": {},
   "outputs": [],
   "source": [
    "import joblib\n",
    "\n",
    "model = joblib.load('knnplayer.pkl')"
   ]
  },
  {
   "cell_type": "code",
   "execution_count": 5,
   "id": "invisible-leadership",
   "metadata": {},
   "outputs": [],
   "source": [
    "from sklearn.neighbors import NearestNeighbors\n",
    "\n",
    "recommendations = NearestNeighbors(n_neighbors=6, algorithm='ball_tree').fit(model)\n",
    "player_indices = recommendations.kneighbors(model)[1]"
   ]
  },
  {
   "cell_type": "code",
   "execution_count": 8,
   "id": "configured-shade",
   "metadata": {},
   "outputs": [
    {
     "name": "stdout",
     "output_type": "stream",
     "text": [
      "Here are 5 players similar to E. Hazard :\n",
      "\n",
      "Neymar Jr \n",
      "\n",
      "R. Mahrez \n",
      "\n",
      "H. Son \n",
      "\n",
      "P. Dybala \n",
      "\n",
      "Ronaldo Cabrais \n",
      "\n"
     ]
    }
   ],
   "source": [
    "import pandas as pd\n",
    "\n",
    "data = pd.read_csv('players_21_clean.csv')\n",
    "\n",
    "def get_index(x):\n",
    "    return data[data['short_name']==x].index.tolist()[0]\n",
    "\n",
    "def recommend_me(player):\n",
    "    print('Here are 5 players similar to', player, ':' '\\n')\n",
    "    index = get_index(player)\n",
    "    for i in player_indices[index][1:]:\n",
    "            print(data.iloc[i]['short_name'], '\\n')\n",
    "\n",
    "recommend_me(\"E. Hazard\")"
   ]
  },
  {
   "cell_type": "code",
   "execution_count": null,
   "id": "inappropriate-rabbit",
   "metadata": {},
   "outputs": [],
   "source": []
  }
 ],
 "metadata": {
  "kernelspec": {
   "display_name": "Python 3",
   "language": "python",
   "name": "python3"
  },
  "language_info": {
   "codemirror_mode": {
    "name": "ipython",
    "version": 3
   },
   "file_extension": ".py",
   "mimetype": "text/x-python",
   "name": "python",
   "nbconvert_exporter": "python",
   "pygments_lexer": "ipython3",
   "version": "3.8.5"
  }
 },
 "nbformat": 4,
 "nbformat_minor": 5
}
